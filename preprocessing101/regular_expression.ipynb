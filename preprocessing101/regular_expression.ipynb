{
 "cells": [
  {
   "cell_type": "markdown",
   "metadata": {},
   "source": [
    "# re --- 正規表現操作\n",
    "### Agenda\n",
    "\n",
    "- 正規表現の仕組みとPythonでの利用の仕方をまとめる\n",
    "\n",
    "### 参考\n",
    "\n",
    "- https://docs.python.org/ja/3/library/re.html\n"
   ]
  },
  {
   "cell_type": "code",
   "execution_count": 1,
   "metadata": {},
   "outputs": [],
   "source": [
    "## create the clean environment\n",
    "import gc\n",
    "import matplotlib.pyplot as plt\n",
    "\n",
    "def clear_all():\n",
    "    # Clears all the variables from the workspace\n",
    "    gl = globals().copy()\n",
    "    for var in gl:\n",
    "        if var in clean_env_var: continue\n",
    "        del globals()[var]\n",
    "    # Garbage collection:\n",
    "    gc.collect()\n",
    "\n",
    "def close_plots():\n",
    "  my_plots = plt.get_fignums()\n",
    "  for j in my_plots:\n",
    "    plt.close(plt.figure(j))\n",
    "\n",
    "clean_env_var = dir()\n",
    "clean_env_var.append('clean_env_var')"
   ]
  },
  {
   "cell_type": "code",
   "execution_count": 2,
   "metadata": {},
   "outputs": [],
   "source": [
    "clear_all()"
   ]
  },
  {
   "cell_type": "markdown",
   "metadata": {},
   "source": [
    "### Hardware"
   ]
  },
  {
   "cell_type": "code",
   "execution_count": 3,
   "metadata": {},
   "outputs": [
    {
     "name": "stdout",
     "output_type": "stream",
     "text": [
      "      Model Identifier: MacBookPro13,1\n",
      "      Processor Name: Dual-Core Intel Core i5\n",
      "      Processor Speed: 2 GHz\n",
      "      Number of Processors: 1\n",
      "      Memory: 16 GB\n"
     ]
    }
   ],
   "source": [
    "%%bash\n",
    "system_profiler SPHardwareDataType | grep -E \\\n",
    "\"Model Identifier\"\\|\"Processor Name\"\\|\"Processor Speed\"\\\n",
    "\\|\"Number of Processors\"\\|\"Memory:\""
   ]
  },
  {
   "cell_type": "markdown",
   "metadata": {},
   "source": [
    "### Python"
   ]
  },
  {
   "cell_type": "code",
   "execution_count": 4,
   "metadata": {},
   "outputs": [
    {
     "name": "stdout",
     "output_type": "stream",
     "text": [
      "Python 3.7.4\n"
     ]
    }
   ],
   "source": [
    "!python -V"
   ]
  },
  {
   "cell_type": "markdown",
   "metadata": {},
   "source": [
    "### Install Libraries"
   ]
  },
  {
   "cell_type": "code",
   "execution_count": 5,
   "metadata": {},
   "outputs": [],
   "source": [
    "pass"
   ]
  },
  {
   "cell_type": "markdown",
   "metadata": {},
   "source": [
    "### Import"
   ]
  },
  {
   "cell_type": "code",
   "execution_count": 6,
   "metadata": {},
   "outputs": [],
   "source": [
    "import re"
   ]
  },
  {
   "cell_type": "markdown",
   "metadata": {},
   "source": [
    "## 1. 正規表現入門\n",
    "\n",
    "- 正規表現はregular expressionの訳語\n",
    "- 元々は文字列のパターンを記述するための表現式として誕生\n",
    "- 検索、置換、抽出、削除といった文字列処理をする際に重宝される\n"
   ]
  },
  {
   "cell_type": "markdown",
   "metadata": {},
   "source": [
    "### 正規表現の基本\n",
    "\n",
    "```\n",
    "0|1|2|3|4|5|7|8|9\n",
    "```\n",
    "\n",
    "という正規表現は「0から9までの数字一文字」というパターンを表現している。\n",
    "\n",
    "- `|`: orを表す演算子\n",
    "- `[0-9]`, `\\d`も「0から9までの数字一文字」\n",
    "\n",
    "```\n",
    "03-[0-9][0-9][0-9][0-9]-[0-9][0-9][0-9][0-9]\n",
    "```\n",
    "\n",
    "という正規表現は東京都の電話番号のパターンを示す\n",
    "\n",
    "- `03-[0-9]{4}-[0-9]{4}`も同じ\n",
    "- `03(-[0-9]{4}){2}`も同じ\n",
    "- `03(-\\d{4}){2}`も同じ\n",
    "- `{4}`は「繰り返し」に関する演算子（量指定子,quantifier）\n",
    "\n",
    "\n",
    "### 基本原則\n",
    "\n",
    "- 連結\n",
    "- 選択\n",
    "- 繰り返し\n"
   ]
  },
  {
   "cell_type": "markdown",
   "metadata": {},
   "source": [
    "### メタ文字とリテラル\n",
    "\n",
    "- メタ文字: 正規表現のおいて特別な意味を持った文字\n",
    "- リテラル: 正規表現のおいて特別な意味を持たない文字\n",
    "\n"
   ]
  },
  {
   "cell_type": "markdown",
   "metadata": {},
   "source": [
    "### 文字列処理の一例\n",
    "\n",
    "- 置換\n",
    "\n",
    "```\n",
    "sed -i -E 's/^(maxClients)*[0-9] + /\\1 2048/' hoge.txt\n",
    "```\n",
    "\n",
    "- 検索\n",
    "\n",
    "```\n",
    "grep -E '正規表現' source.txt\n",
    "```"
   ]
  },
  {
   "cell_type": "markdown",
   "metadata": {},
   "source": [
    "### 正規表現の例\n",
    "\n",
    "- `(...)?`: カッコ内か空文字列\n",
    "- `\\d*`: 任意の長さの数字列\n",
    "\n",
    "#### Pythonの識別子に使える文字列の命名規則\n",
    "\n",
    "- 先頭がアルファベットかアンダースコアで始まっている\n",
    "- 先頭がアルファベットかアンダースコア, 数字の組み合わせで作れる文字列\n",
    "\n",
    "\n",
    "これを正規表現で記述すると\n",
    "```\n",
    "[a-zA-Z_][a-zA-Z0-9_]*\n",
    "```\n"
   ]
  },
  {
   "cell_type": "markdown",
   "metadata": {},
   "source": [
    "### 演算子の結合順位\n",
    "\n",
    "```\n",
    "繰り返し > 連結 > 選択\n",
    "```\n",
    "\n",
    "- 丸括弧によるグループ化を用いることでどの演算を優先的に評価するかを明示的に指定することができる"
   ]
  },
  {
   "cell_type": "markdown",
   "metadata": {},
   "source": [
    "### 正規表現のシンタックスシュガー\n",
    "\n",
    "- `+`: 一回上の任意回の繰り返し\n",
    "- `?`: あるか無いか、0回か1回か\n",
    "- `{n, m}`: n回以上m回以下の繰り返し\n",
    "- `.`: 任意の一文字\n",
    "- `[^]`: 文字クラスにおける`[]`内部では先頭の`^`は否定の記号として特別扱いされる\n",
    "\n",
    "### 文字クラス\n",
    "\n",
    "- `[0-9]`: 0-9までの数字\n",
    "- `[a-z]`: 小文字のみのアルファベット\n",
    "- `[A-Z]`: 大文字のみのアルファベット\n",
    "- `[a-zA-Z]`: アルファベット（大文字小文字含む）\n",
    "\n",
    "`[0-9A-F]`とかくと16進数が抽出できる\n",
    " \n"
   ]
  },
  {
   "cell_type": "markdown",
   "metadata": {},
   "source": [
    "### エスケープシーケンス\n",
    "\n",
    "- `\\t`: tab文字\n",
    "- `\\n`: 改行文字\n",
    "- `\\d`: `[0-9]`\n",
    "- `\\w`:`[0-9a-zA-Z_]`\n",
    "- `\\D`: `[^0-9]`\n",
    "\n",
    "処理系によって使用可能なエスケープシーケンスは異なることに注意"
   ]
  },
  {
   "cell_type": "markdown",
   "metadata": {},
   "source": [
    "### アンカー\n",
    "\n",
    "アンカーとは文字列ではなく位置にマッチするメタ文字\n",
    "\n",
    "- `^`：先頭\n",
    "- `$`：行末\n",
    "- `\\A`: テキスト先頭\n"
   ]
  },
  {
   "cell_type": "markdown",
   "metadata": {},
   "source": [
    "### prefix, substring, suffix\n",
    "\n",
    "長さnの文字列が与えられた時\n",
    "\n",
    "- prefix: n個\n",
    "- suffix: n個\n",
    "- substring: 空文字含めてn(n+1)/2 + 1個\n"
   ]
  },
  {
   "cell_type": "markdown",
   "metadata": {},
   "source": [
    "#### Pythonと前方一致と部分一致\n",
    "\n",
    "- `re.match`: 前方一致\n",
    "- `re.search`: 部分一致"
   ]
  },
  {
   "cell_type": "code",
   "execution_count": 11,
   "metadata": {},
   "outputs": [
    {
     "data": {
      "text/plain": [
       "False"
      ]
     },
     "execution_count": 11,
     "metadata": {},
     "output_type": "execute_result"
    }
   ],
   "source": [
    "test = 'presubsuf'\n",
    "True if re.match('sub', test) else False"
   ]
  },
  {
   "cell_type": "code",
   "execution_count": 12,
   "metadata": {},
   "outputs": [
    {
     "data": {
      "text/plain": [
       "True"
      ]
     },
     "execution_count": 12,
     "metadata": {},
     "output_type": "execute_result"
    }
   ],
   "source": [
    "True if re.search('sub', test) else False"
   ]
  },
  {
   "cell_type": "markdown",
   "metadata": {},
   "source": [
    "### キャプチャ\n",
    "\n",
    "正規表現と文字列からサブマッチを取得することをキャプチャと呼ぶ"
   ]
  },
  {
   "cell_type": "code",
   "execution_count": 42,
   "metadata": {},
   "outputs": [
    {
     "data": {
      "text/plain": [
       "('11', '14', '1980')"
      ]
     },
     "execution_count": 42,
     "metadata": {},
     "output_type": "execute_result"
    }
   ],
   "source": [
    "r = re.compile(\"(\\d{2})/(\\d{2})/(\\d{4})\")\n",
    "r.match(\"11/14/1980\").groups()"
   ]
  },
  {
   "cell_type": "code",
   "execution_count": null,
   "metadata": {},
   "outputs": [],
   "source": []
  },
  {
   "cell_type": "code",
   "execution_count": null,
   "metadata": {},
   "outputs": [],
   "source": []
  },
  {
   "cell_type": "markdown",
   "metadata": {},
   "source": [
    "### 例題１\n",
    "\n",
    "`ab+c`と`ab*c`の違い\n",
    "\n",
    "#### 解\n",
    "\n",
    "`ab+c`だと`ac`にはマッチしないが、`ab*c`だとする\n",
    "\n",
    "### 例題２\n",
    "\n",
    "`https?://gihyo.jp/`という正規表現でマッチする文字列は何か？\n",
    "\n",
    "#### 解\n",
    "\n",
    "- `https://gihyo.jp/`\n",
    "- `http://gihyo.jp/`\n"
   ]
  },
  {
   "cell_type": "markdown",
   "metadata": {},
   "source": [
    "### 例題3\n",
    "\n",
    "```\n",
    "03-4567i4-567u875\n",
    "03-4567-5678\n",
    "0345675678\n",
    "りんご\n",
    "```\n",
    "から東京の電話番号表記に沿った文字列を抽出しろ\n"
   ]
  },
  {
   "cell_type": "code",
   "execution_count": 36,
   "metadata": {},
   "outputs": [
    {
     "name": "stdout",
     "output_type": "stream",
     "text": [
      "03-4567i4-567u875\n",
      "03-4567-5678\n",
      "0345675678\n",
      "りんご\n"
     ]
    }
   ],
   "source": [
    "%%bash\n",
    "input=\"03-4567i4-567u875\n",
    "03-4567-5678\n",
    "0345675678\n",
    "りんご\"\n",
    "\n",
    "echo \"$input\""
   ]
  },
  {
   "cell_type": "code",
   "execution_count": 39,
   "metadata": {},
   "outputs": [
    {
     "name": "stdout",
     "output_type": "stream",
     "text": [
      "03-4567-5678\n"
     ]
    }
   ],
   "source": [
    "%%bash\n",
    "input=\"03-4567i4-567u875\n",
    "03-4567-5678\n",
    "0345675678\n",
    "りんご\"\n",
    "\n",
    "echo \"$input\" | egrep '03(-[0-9]{4}){2}'"
   ]
  },
  {
   "cell_type": "code",
   "execution_count": null,
   "metadata": {},
   "outputs": [],
   "source": []
  }
 ],
 "metadata": {
  "kernelspec": {
   "display_name": "Python 3",
   "language": "python",
   "name": "python3"
  },
  "language_info": {
   "codemirror_mode": {
    "name": "ipython",
    "version": 3
   },
   "file_extension": ".py",
   "mimetype": "text/x-python",
   "name": "python",
   "nbconvert_exporter": "python",
   "pygments_lexer": "ipython3",
   "version": "3.7.4"
  }
 },
 "nbformat": 4,
 "nbformat_minor": 4
}
